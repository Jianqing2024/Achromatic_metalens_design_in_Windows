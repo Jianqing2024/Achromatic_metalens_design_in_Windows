{
 "cells": [
  {
   "cell_type": "code",
   "execution_count": 1,
   "id": "ef4f0a2c",
   "metadata": {},
   "outputs": [
    {
     "name": "stderr",
     "output_type": "stream",
     "text": [
      "d:\\software\\anaconda\\envs\\Meta_env\\Lib\\site-packages\\tqdm\\auto.py:21: TqdmWarning: IProgress not found. Please update jupyter and ipywidgets. See https://ipywidgets.readthedocs.io/en/stable/user_install.html\n",
      "  from .autonotebook import tqdm as notebook_tqdm\n"
     ]
    },
    {
     "name": "stdout",
     "output_type": "stream",
     "text": [
      "11\n"
     ]
    },
    {
     "name": "stderr",
     "output_type": "stream",
     "text": [
      "Optuna ING:   2%|▏         | 12/500 [00:00<00:04, 106.54it/s]"
     ]
    },
    {
     "name": "stdout",
     "output_type": "stream",
     "text": [
      "Trial 000 found a better value. Value: 3782.1821\n",
      "Trial 011 found a better value. Value: 3745.5818\n"
     ]
    },
    {
     "name": "stderr",
     "output_type": "stream",
     "text": [
      "Optuna ING:   6%|▋         | 32/500 [00:00<00:06, 74.86it/s] "
     ]
    },
    {
     "name": "stdout",
     "output_type": "stream",
     "text": [
      "Trial 020 found a better value. Value: 2987.8381\n",
      "Trial 021 found a better value. Value: 2973.9964\n",
      "Trial 029 found a better value. Value: 2954.5235\n",
      "Trial 031 found a better value. Value: 2906.3082\n"
     ]
    },
    {
     "name": "stderr",
     "output_type": "stream",
     "text": [
      "Optuna ING:  18%|█▊        | 90/500 [00:01<00:06, 66.21it/s]"
     ]
    },
    {
     "name": "stdout",
     "output_type": "stream",
     "text": [
      "Trial 081 found a better value. Value: 2847.3907\n",
      "Trial 083 found a better value. Value: 2494.3752\n"
     ]
    },
    {
     "name": "stderr",
     "output_type": "stream",
     "text": [
      "Optuna ING:  22%|██▏       | 111/500 [00:01<00:05, 65.53it/s]"
     ]
    },
    {
     "name": "stdout",
     "output_type": "stream",
     "text": [
      "Trial 101 found a better value. Value: 2425.5323\n"
     ]
    },
    {
     "name": "stderr",
     "output_type": "stream",
     "text": [
      "Optuna ING:  39%|███▉      | 195/500 [00:02<00:04, 66.07it/s]"
     ]
    },
    {
     "name": "stdout",
     "output_type": "stream",
     "text": [
      "Trial 182 found a better value. Value: 1899.7901\n"
     ]
    },
    {
     "name": "stderr",
     "output_type": "stream",
     "text": [
      "Optuna ING:  46%|████▌     | 230/500 [00:03<00:04, 65.87it/s]"
     ]
    },
    {
     "name": "stdout",
     "output_type": "stream",
     "text": [
      "Trial 219 found a better value. Value: 1780.3694\n"
     ]
    },
    {
     "name": "stderr",
     "output_type": "stream",
     "text": [
      "Optuna ING: 100%|██████████| 500/500 [00:07<00:00, 63.75it/s]"
     ]
    },
    {
     "name": "stdout",
     "output_type": "stream",
     "text": [
      "BestValue : 1780.3694444201458\n"
     ]
    },
    {
     "name": "stderr",
     "output_type": "stream",
     "text": [
      "\n"
     ]
    }
   ],
   "source": [
    "from Data_quality_evaluation import main\n",
    "from Data_quality_evaluation import General_function as gf\n",
    "from Data_quality_evaluation import Simulation_evaluation as se\n",
    "\n",
    "best = main.Preliminary_numerical_evaluation(48)\n",
    "COM = gf.Command(best)\n",
    "COM.Over = True\n",
    "BestParameter, BestValue = se.Optimizer1D(COM)\n",
    "print(f\"BestValue : {BestValue}\")"
   ]
  },
  {
   "cell_type": "code",
   "execution_count": 2,
   "id": "ae1ebe9d",
   "metadata": {},
   "outputs": [],
   "source": [
    "matched_ids = se.OneD_Index(BestParameter, COM)"
   ]
  },
  {
   "cell_type": "code",
   "execution_count": null,
   "id": "7956adc9",
   "metadata": {},
   "outputs": [],
   "source": []
  }
 ],
 "metadata": {
  "kernelspec": {
   "display_name": "Meta_env",
   "language": "python",
   "name": "python3"
  },
  "language_info": {
   "codemirror_mode": {
    "name": "ipython",
    "version": 3
   },
   "file_extension": ".py",
   "mimetype": "text/x-python",
   "name": "python",
   "nbconvert_exporter": "python",
   "pygments_lexer": "ipython3",
   "version": "3.11.13"
  }
 },
 "nbformat": 4,
 "nbformat_minor": 5
}
