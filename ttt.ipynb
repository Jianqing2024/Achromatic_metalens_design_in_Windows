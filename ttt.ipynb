{
 "cells": [
  {
   "cell_type": "code",
   "execution_count": 2,
   "id": "153cd3bd",
   "metadata": {},
   "outputs": [
    {
     "name": "stdout",
     "output_type": "stream",
     "text": [
      "Spectral range : waveMax = 8e-07 | waveMin = 5.32e-07\n"
     ]
    }
   ],
   "source": [
    "from MetaSet import advancedStructure as ad\n",
    "from scipy.io import savemat\n",
    "meta = ad.MetaEngine()\n",
    "meta.fdtd.load(\"OneD0623.fsp\")\n",
    "aaa = meta.fdtd.getdata(\"Monitor\", \"Ex\")\n",
    "    \n",
    "savemat('MonitorData.mat', {'data': aaa})"
   ]
  }
 ],
 "metadata": {
  "kernelspec": {
   "display_name": "Meta_env",
   "language": "python",
   "name": "python3"
  },
  "language_info": {
   "codemirror_mode": {
    "name": "ipython",
    "version": 3
   },
   "file_extension": ".py",
   "mimetype": "text/x-python",
   "name": "python",
   "nbconvert_exporter": "python",
   "pygments_lexer": "ipython3",
   "version": "3.11.13"
  }
 },
 "nbformat": 4,
 "nbformat_minor": 5
}
