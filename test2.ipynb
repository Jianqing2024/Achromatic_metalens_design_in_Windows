{
 "cells": [
  {
   "cell_type": "code",
   "execution_count": 1,
   "id": "261350c5",
   "metadata": {},
   "outputs": [],
   "source": [
    "from MetaSet import advancedStructure as ad\n",
    "\n",
    "meta = ad.MetaEngine()\n"
   ]
  },
  {
   "cell_type": "code",
   "execution_count": 2,
   "id": "85b4c7d8",
   "metadata": {},
   "outputs": [],
   "source": [
    "Ex, Trans = meta.StandardDataAcquisition(\"test0.fsp\")\n"
   ]
  },
  {
   "cell_type": "code",
   "execution_count": 3,
   "id": "f756a69a",
   "metadata": {},
   "outputs": [],
   "source": [
    "Ex, Trans = meta.StandardDataAcquisition(\"test1.fsp\")\n",
    "\n"
   ]
  },
  {
   "cell_type": "code",
   "execution_count": 4,
   "id": "cbeca299",
   "metadata": {},
   "outputs": [],
   "source": [
    "Ex, Trans = meta.StandardDataAcquisition(\"test2.fsp\")\n"
   ]
  },
  {
   "cell_type": "code",
   "execution_count": 5,
   "id": "8ba996df",
   "metadata": {},
   "outputs": [],
   "source": [
    "Ex, Trans = meta.StandardDataAcquisition(\"test3.fsp\")"
   ]
  },
  {
   "cell_type": "code",
   "execution_count": 6,
   "id": "9586c968",
   "metadata": {},
   "outputs": [],
   "source": [
    "meta.fdtd.addjob(\"test0.fsp\")\n",
    "meta.fdtd.addjob(\"test1.fsp\")\n",
    "meta.fdtd.addjob(\"test2.fsp\")\n",
    "meta.fdtd.addjob(\"test3.fsp\")\n",
    "\n",
    "\n",
    "meta.fdtd.clearjobs()"
   ]
  },
  {
   "cell_type": "code",
   "execution_count": 7,
   "id": "d88be5f6",
   "metadata": {},
   "outputs": [],
   "source": [
    "meta.fdtd.load(\"test3.fsp\")\n",
    "meta.fdtd.run()"
   ]
  }
 ],
 "metadata": {
  "kernelspec": {
   "display_name": "test_env",
   "language": "python",
   "name": "python3"
  },
  "language_info": {
   "codemirror_mode": {
    "name": "ipython",
    "version": 3
   },
   "file_extension": ".py",
   "mimetype": "text/x-python",
   "name": "python",
   "nbconvert_exporter": "python",
   "pygments_lexer": "ipython3",
   "version": "3.10.16"
  }
 },
 "nbformat": 4,
 "nbformat_minor": 5
}
