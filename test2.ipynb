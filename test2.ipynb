{
 "cells": [
  {
   "cell_type": "code",
   "execution_count": 8,
   "id": "261350c5",
   "metadata": {},
   "outputs": [
    {
     "name": "stdout",
     "output_type": "stream",
     "text": [
      "Spectral range : 5.32e-07 - 8e-07\n"
     ]
    }
   ],
   "source": [
    "from MetaSet import advancedStructure as ad\n",
    "\n",
    "meta = ad.MetaEngine()\n"
   ]
  },
  {
   "cell_type": "code",
   "execution_count": 17,
   "id": "43c02d05",
   "metadata": {},
   "outputs": [
    {
     "data": {
      "text/plain": [
       "0.0"
      ]
     },
     "execution_count": 17,
     "metadata": {},
     "output_type": "execute_result"
    }
   ],
   "source": [
    "path=r\"D:\\WORK\\Achromatic_metalens_design_in_Windows\\Temporary_computation_folder\\test3.fsp\"\n",
    "meta.fdtd.load(path)\n",
    "meta.fdtd.getresult(\"FDTD\", \"status\")"
   ]
  },
  {
   "cell_type": "code",
   "execution_count": null,
   "id": "85b4c7d8",
   "metadata": {},
   "outputs": [],
   "source": [
    "Ex, Trans = meta.StandardDataAcquisition(\"test0.fsp\")"
   ]
  },
  {
   "cell_type": "code",
   "execution_count": null,
   "id": "f756a69a",
   "metadata": {},
   "outputs": [],
   "source": [
    "Ex, Trans = meta.StandardDataAcquisition(\"test1.fsp\")"
   ]
  },
  {
   "cell_type": "code",
   "execution_count": null,
   "id": "cbeca299",
   "metadata": {},
   "outputs": [],
   "source": [
    "Ex, Trans = meta.StandardDataAcquisition(\"test2.fsp\")"
   ]
  },
  {
   "cell_type": "code",
   "execution_count": 5,
   "id": "8ba996df",
   "metadata": {},
   "outputs": [],
   "source": [
    "Ex, Trans = meta.StandardDataAcquisition(\"test3.fsp\")"
   ]
  },
  {
   "cell_type": "code",
   "execution_count": 34,
   "id": "1c157c87",
   "metadata": {},
   "outputs": [],
   "source": [
    "meta.fdtd.switchtolayout(\"test0.fsp\")\n",
    "meta.fdtd.switchtolayout(\"test1.fsp\")\n",
    "meta.fdtd.switchtolayout(\"test2.fsp\")\n",
    "meta.fdtd.switchtolayout(\"test3.fsp\")"
   ]
  },
  {
   "cell_type": "code",
   "execution_count": 35,
   "id": "9586c968",
   "metadata": {},
   "outputs": [],
   "source": [
    "meta.fdtd.addjob(\"test0.fsp\",\"FDTD\")\n",
    "meta.fdtd.addjob(\"test1.fsp\",\"FDTD\")\n",
    "meta.fdtd.addjob(\"test2.fsp\",\"FDTD\")\n",
    "meta.fdtd.addjob(\"test3.fsp\",\"FDTD\")\n",
    "\n"
   ]
  },
  {
   "cell_type": "code",
   "execution_count": 36,
   "id": "c869408c",
   "metadata": {},
   "outputs": [],
   "source": [
    "meta.fdtd.runjobs(\"FDTD\")"
   ]
  },
  {
   "cell_type": "code",
   "execution_count": 11,
   "id": "8be2558e",
   "metadata": {},
   "outputs": [],
   "source": [
    "meta.fdtd.clearjobs()"
   ]
  },
  {
   "cell_type": "code",
   "execution_count": 37,
   "id": "5ea33683",
   "metadata": {},
   "outputs": [
    {
     "data": {
      "text/plain": [
       "''"
      ]
     },
     "execution_count": 37,
     "metadata": {},
     "output_type": "execute_result"
    }
   ],
   "source": [
    "meta.fdtd.listjobs()"
   ]
  },
  {
   "cell_type": "code",
   "execution_count": null,
   "id": "d88be5f6",
   "metadata": {},
   "outputs": [
    {
     "name": "stdout",
     "output_type": "stream",
     "text": [
      "['test0.fsp', 'test1.fsp', 'test2.fsp', 'test3.fsp']\n",
      "yes!\n"
     ]
    }
   ],
   "source": [
    "import re\n",
    "JobsListt=meta.fdtd.listjobs()\n",
    "\n",
    "# 正则表达式：匹配斜杠后面的文件名（以 .fsp 结尾）\n",
    "pattern = r'([^\\\\/]+\\.fsp)'\n",
    "\n",
    "filenames = re.findall(pattern, JobsListt)\n",
    "print(filenames)\n",
    "\n",
    "if len(filenames) == 4:\n",
    "    print('yes!')\n"
   ]
  },
  {
   "cell_type": "code",
   "execution_count": 33,
   "id": "5bebb089",
   "metadata": {},
   "outputs": [
    {
     "name": "stdout",
     "output_type": "stream",
     "text": [
      "False\n"
     ]
    }
   ],
   "source": [
    "import re\n",
    "def JobListConfirm(meta, num):\n",
    "    JobsListt=meta.fdtd.listjobs()\n",
    "    # 正则表达式：匹配斜杠后面的文件名（以 .fsp 结尾）\n",
    "    pattern = r'([^\\\\/]+\\.fsp)'\n",
    "    filenames = re.findall(pattern, JobsListt)\n",
    "\n",
    "    if len(filenames) == num:\n",
    "        Jobs=True\n",
    "    else:\n",
    "        Jobs=False\n",
    "    return Jobs\n",
    "        \n",
    "Jobs=JobListConfirm(meta, 5)\n",
    "print(Jobs)"
   ]
  },
  {
   "cell_type": "code",
   "execution_count": null,
   "id": "c07d7238",
   "metadata": {},
   "outputs": [
    {
     "name": "stdout",
     "output_type": "stream",
     "text": [
      "d:\\WORK\\Achromatic_metalens_design_in_Windows\n"
     ]
    }
   ],
   "source": [
    "import os\n",
    "\n",
    "base_dir = os.getcwd()\n",
    "DB_PATH = os.path.join(base_dir, \"test0.fsp\")\n",
    "print(base_dir)"
   ]
  },
  {
   "cell_type": "code",
   "execution_count": 4,
   "id": "eff23ab3",
   "metadata": {},
   "outputs": [
    {
     "ename": "LumApiError",
     "evalue": "\"Can not find result 'status' in the result provider 'D:\\\\WORK\\\\Achromatic_metalens_design_in_Windows\\\\Temporary_computation_folder\\\\test0.fsp'\"",
     "output_type": "error",
     "traceback": [
      "\u001b[31m---------------------------------------------------------------------------\u001b[39m",
      "\u001b[31mLumApiError\u001b[39m                               Traceback (most recent call last)",
      "\u001b[36mCell\u001b[39m\u001b[36m \u001b[39m\u001b[32mIn[4]\u001b[39m\u001b[32m, line 2\u001b[39m\n\u001b[32m      1\u001b[39m path=\u001b[33mr\u001b[39m\u001b[33m\"\u001b[39m\u001b[33mD:\u001b[39m\u001b[33m\\\u001b[39m\u001b[33mWORK\u001b[39m\u001b[33m\\\u001b[39m\u001b[33mAchromatic_metalens_design_in_Windows\u001b[39m\u001b[33m\\\u001b[39m\u001b[33mTemporary_computation_folder\u001b[39m\u001b[33m\\\u001b[39m\u001b[33mtest0.fsp\u001b[39m\u001b[33m\"\u001b[39m\n\u001b[32m----> \u001b[39m\u001b[32m2\u001b[39m \u001b[43mmeta\u001b[49m\u001b[43m.\u001b[49m\u001b[43mfdtd\u001b[49m\u001b[43m.\u001b[49m\u001b[43mgetresult\u001b[49m\u001b[43m(\u001b[49m\u001b[43mpath\u001b[49m\u001b[43m,\u001b[49m\u001b[43m \u001b[49m\u001b[33;43m\"\u001b[39;49m\u001b[33;43mstatus\u001b[39;49m\u001b[33;43m\"\u001b[39;49m\u001b[43m)\u001b[49m\n",
      "\u001b[36mFile \u001b[39m\u001b[32mD:\\Program Files\\Lumerical\\v241\\api\\python\\lumapi.py:1257\u001b[39m, in \u001b[36mLumerical.__init__.<locals>.<lambda>\u001b[39m\u001b[34m(self, *args)\u001b[39m\n\u001b[32m   1254\u001b[39m     method = (\u001b[38;5;28;01mlambda\u001b[39;00m x: \u001b[38;5;28;01mlambda\u001b[39;00m \u001b[38;5;28mself\u001b[39m, *args, **kwargs:\n\u001b[32m   1255\u001b[39m     appCallWithConstructor(\u001b[38;5;28mself\u001b[39m, x, args, **kwargs))(name)\n\u001b[32m   1256\u001b[39m \u001b[38;5;28;01melse\u001b[39;00m:\n\u001b[32m-> \u001b[39m\u001b[32m1257\u001b[39m     method = (\u001b[38;5;28;01mlambda\u001b[39;00m x: \u001b[38;5;28;01mlambda\u001b[39;00m \u001b[38;5;28mself\u001b[39m, *args: \u001b[43mappCall\u001b[49m\u001b[43m(\u001b[49m\u001b[38;5;28;43mself\u001b[39;49m\u001b[43m,\u001b[49m\u001b[43m \u001b[49m\u001b[43mx\u001b[49m\u001b[43m,\u001b[49m\u001b[43m \u001b[49m\u001b[43margs\u001b[49m\u001b[43m)\u001b[49m)(name)\n\u001b[32m   1258\u001b[39m method.\u001b[34m__name__\u001b[39m = \u001b[38;5;28mstr\u001b[39m(name)\n\u001b[32m   1259\u001b[39m \u001b[38;5;28;01mtry\u001b[39;00m:\n",
      "\u001b[36mFile \u001b[39m\u001b[32mD:\\Program Files\\Lumerical\\v241\\api\\python\\lumapi.py:899\u001b[39m, in \u001b[36mappCall\u001b[39m\u001b[34m(self, name, *args)\u001b[39m\n\u001b[32m    897\u001b[39m         argLumTypes = lumTypes(\u001b[38;5;28mlist\u001b[39m(args[\u001b[32m0\u001b[39m]))\n\u001b[32m    898\u001b[39m         message += (\u001b[33m\"\u001b[39m\u001b[33m - \u001b[39m\u001b[33m\"\u001b[39m + name + \u001b[33m\"\u001b[39m\u001b[33m arguments were converted to (\u001b[39m\u001b[33m\"\u001b[39m + \u001b[33m\"\u001b[39m\u001b[33m, \u001b[39m\u001b[33m\"\u001b[39m.join(argLumTypes) + \u001b[33m\"\u001b[39m\u001b[33m)\u001b[39m\u001b[33m\"\u001b[39m)\n\u001b[32m--> \u001b[39m\u001b[32m899\u001b[39m     \u001b[38;5;28;01mraise\u001b[39;00m LumApiError(message)\n\u001b[32m    900\u001b[39m \u001b[38;5;28;01mif\u001b[39;00m \u001b[38;5;28misinstance\u001b[39m(rvals[\u001b[32m0\u001b[39m], \u001b[38;5;28mstr\u001b[39m) \u001b[38;5;129;01mand\u001b[39;00m (rvals[\u001b[32m0\u001b[39m] == \u001b[33m\"\u001b[39m\u001b[33md6d8d1b2c083c251\u001b[39m\u001b[33m\"\u001b[39m):\n\u001b[32m    901\u001b[39m     rvals[\u001b[32m0\u001b[39m] = \u001b[38;5;28;01mNone\u001b[39;00m\n",
      "\u001b[31mLumApiError\u001b[39m: \"Can not find result 'status' in the result provider 'D:\\\\WORK\\\\Achromatic_metalens_design_in_Windows\\\\Temporary_computation_folder\\\\test0.fsp'\""
     ]
    }
   ],
   "source": [
    "path=r\"D:\\WORK\\Achromatic_metalens_design_in_Windows\\Temporary_computation_folder\\test0.fsp\"\n",
    "meta.fdtd.getresult(path, \"status\")"
   ]
  }
 ],
 "metadata": {
  "kernelspec": {
   "display_name": "Meta_env",
   "language": "python",
   "name": "python3"
  },
  "language_info": {
   "codemirror_mode": {
    "name": "ipython",
    "version": 3
   },
   "file_extension": ".py",
   "mimetype": "text/x-python",
   "name": "python",
   "nbconvert_exporter": "python",
   "pygments_lexer": "ipython3",
   "version": "3.11.12"
  }
 },
 "nbformat": 4,
 "nbformat_minor": 5
}
