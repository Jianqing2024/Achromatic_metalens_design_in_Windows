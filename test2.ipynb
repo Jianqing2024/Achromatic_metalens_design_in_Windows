{
 "cells": [
  {
   "cell_type": "code",
   "execution_count": null,
   "id": "261350c5",
   "metadata": {},
   "outputs": [],
   "source": [
    "from MetaSet import advancedStructure as ad\n",
    "\n",
    "meta = ad.MetaEngine()\n"
   ]
  },
  {
   "cell_type": "code",
   "execution_count": null,
   "id": "43c02d05",
   "metadata": {},
   "outputs": [],
   "source": [
    "path=r\"D:\\WORK\\Achromatic_metalens_design_in_Windows\\Temporary_computation_folder\\test3.fsp\"\n",
    "meta.fdtd.load(path)\n",
    "meta.fdtd.getresult(\"FDTD\", \"status\")"
   ]
  },
  {
   "cell_type": "code",
   "execution_count": null,
   "id": "85b4c7d8",
   "metadata": {},
   "outputs": [],
   "source": [
    "Ex, Trans = meta.StandardDataAcquisition(\"test0.fsp\")"
   ]
  },
  {
   "cell_type": "code",
   "execution_count": null,
   "id": "f756a69a",
   "metadata": {},
   "outputs": [],
   "source": [
    "Ex, Trans = meta.StandardDataAcquisition(\"test1.fsp\")"
   ]
  },
  {
   "cell_type": "code",
   "execution_count": null,
   "id": "cbeca299",
   "metadata": {},
   "outputs": [],
   "source": [
    "Ex, Trans = meta.StandardDataAcquisition(\"test2.fsp\")"
   ]
  },
  {
   "cell_type": "code",
   "execution_count": null,
   "id": "8ba996df",
   "metadata": {},
   "outputs": [],
   "source": [
    "Ex, Trans = meta.StandardDataAcquisition(\"test3.fsp\")"
   ]
  },
  {
   "cell_type": "code",
   "execution_count": null,
   "id": "1c157c87",
   "metadata": {},
   "outputs": [],
   "source": [
    "meta.fdtd.switchtolayout(\"test0.fsp\")\n",
    "meta.fdtd.switchtolayout(\"test1.fsp\")\n",
    "meta.fdtd.switchtolayout(\"test2.fsp\")\n",
    "meta.fdtd.switchtolayout(\"test3.fsp\")"
   ]
  },
  {
   "cell_type": "code",
   "execution_count": null,
   "id": "9586c968",
   "metadata": {},
   "outputs": [],
   "source": [
    "meta.fdtd.addjob(\"test0.fsp\",\"FDTD\")\n",
    "meta.fdtd.addjob(\"test1.fsp\",\"FDTD\")\n",
    "meta.fdtd.addjob(\"test2.fsp\",\"FDTD\")\n",
    "meta.fdtd.addjob(\"test3.fsp\",\"FDTD\")\n",
    "\n"
   ]
  },
  {
   "cell_type": "code",
   "execution_count": null,
   "id": "c869408c",
   "metadata": {},
   "outputs": [],
   "source": [
    "meta.fdtd.runjobs(\"FDTD\")"
   ]
  },
  {
   "cell_type": "code",
   "execution_count": null,
   "id": "8be2558e",
   "metadata": {},
   "outputs": [],
   "source": [
    "meta.fdtd.clearjobs()"
   ]
  },
  {
   "cell_type": "code",
   "execution_count": null,
   "id": "5ea33683",
   "metadata": {},
   "outputs": [],
   "source": [
    "meta.fdtd.listjobs()"
   ]
  },
  {
   "cell_type": "code",
   "execution_count": null,
   "id": "d88be5f6",
   "metadata": {},
   "outputs": [],
   "source": [
    "import re\n",
    "JobsListt=meta.fdtd.listjobs()\n",
    "\n",
    "# 正则表达式：匹配斜杠后面的文件名（以 .fsp 结尾）\n",
    "pattern = r'([^\\\\/]+\\.fsp)'\n",
    "\n",
    "filenames = re.findall(pattern, JobsListt)\n",
    "print(filenames)\n",
    "\n",
    "if len(filenames) == 4:\n",
    "    print('yes!')\n"
   ]
  },
  {
   "cell_type": "code",
   "execution_count": null,
   "id": "5bebb089",
   "metadata": {},
   "outputs": [],
   "source": [
    "import re\n",
    "def JobListConfirm(meta, num):\n",
    "    JobsListt=meta.fdtd.listjobs()\n",
    "    # 正则表达式：匹配斜杠后面的文件名（以 .fsp 结尾）\n",
    "    pattern = r'([^\\\\/]+\\.fsp)'\n",
    "    filenames = re.findall(pattern, JobsListt)\n",
    "\n",
    "    if len(filenames) == num:\n",
    "        Jobs=True\n",
    "    else:\n",
    "        Jobs=False\n",
    "    return Jobs\n",
    "        \n",
    "Jobs=JobListConfirm(meta, 5)\n",
    "print(Jobs)"
   ]
  },
  {
   "cell_type": "code",
   "execution_count": null,
   "id": "c07d7238",
   "metadata": {},
   "outputs": [],
   "source": [
    "import os\n",
    "\n",
    "base_dir = os.getcwd()\n",
    "DB_PATH = os.path.join(base_dir, \"test0.fsp\")\n",
    "print(base_dir)"
   ]
  },
  {
   "cell_type": "code",
   "execution_count": null,
   "id": "eff23ab3",
   "metadata": {},
   "outputs": [],
   "source": [
    "path=r\"D:\\WORK\\Achromatic_metalens_design_in_Windows\\Temporary_computation_folder\\test0.fsp\"\n",
    "meta.fdtd.getresult(path, \"status\")"
   ]
  }
 ],
 "metadata": {
  "kernelspec": {
   "display_name": "Meta_env",
   "language": "python",
   "name": "python3"
  },
  "language_info": {
   "codemirror_mode": {
    "name": "ipython",
    "version": 3
   },
   "file_extension": ".py",
   "mimetype": "text/x-python",
   "name": "python",
   "nbconvert_exporter": "python",
   "pygments_lexer": "ipython3",
   "version": "3.11.12"
  }
 },
 "nbformat": 4,
 "nbformat_minor": 5
}
