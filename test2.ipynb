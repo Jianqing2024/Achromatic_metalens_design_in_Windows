{
 "cells": [
  {
   "cell_type": "code",
   "execution_count": 1,
   "id": "261350c5",
   "metadata": {},
   "outputs": [],
   "source": [
    "import importlib.util\n",
    "\n",
    "lumapi_path = \"D:\\\\Program Files\\\\Lumerical\\\\v241\\\\api\\\\python\\\\lumapi.py\"\n",
    "\n",
    "spec = importlib.util.spec_from_file_location(\"lumapi\", lumapi_path)\n",
    "if spec is None or spec.loader is None:\n",
    "    raise ImportError(\"无法加载 lumapi 模块或 loader 为空\")\n",
    "\n",
    "lumapi = importlib.util.module_from_spec(spec)\n",
    "spec.loader.exec_module(lumapi)\n",
    "\n",
    "fdtd = lumapi.FDTD(r\"D:\\WORK\\Achromatic_metalens_design_in_Windows\\data\\test.fsp\" ,hide=True)\n",
    "\n",
    "fdtd.save(\"aaa.fsp\")\n",
    "\n",
    "fdtd.close()"
   ]
  },
  {
   "cell_type": "code",
   "execution_count": null,
   "id": "85b4c7d8",
   "metadata": {},
   "outputs": [],
   "source": [
    "fdtd = lumapi.FDTD(r\"D:\\WORK\\Achromatic_metalens_design_in_Windows\\data\\aaa.fsp\" ,hide=True)\n",
    "\n",
    "fdtd.addcircle()\n",
    "fdtd.save(\"aaa.fsp\")\n"
   ]
  },
  {
   "cell_type": "code",
   "execution_count": 3,
   "id": "d88be5f6",
   "metadata": {},
   "outputs": [],
   "source": [
    "aaa=fdtd.materialexists(\"111\")"
   ]
  }
 ],
 "metadata": {
  "kernelspec": {
   "display_name": "test_env",
   "language": "python",
   "name": "python3"
  },
  "language_info": {
   "codemirror_mode": {
    "name": "ipython",
    "version": 3
   },
   "file_extension": ".py",
   "mimetype": "text/x-python",
   "name": "python",
   "nbconvert_exporter": "python",
   "pygments_lexer": "ipython3",
   "version": "3.10.16"
  }
 },
 "nbformat": 4,
 "nbformat_minor": 5
}
