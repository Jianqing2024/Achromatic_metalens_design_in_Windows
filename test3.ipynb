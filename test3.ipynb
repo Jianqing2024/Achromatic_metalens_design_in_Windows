{
 "cells": [
  {
   "cell_type": "code",
   "execution_count": 1,
   "id": "caed8a5d",
   "metadata": {},
   "outputs": [
    {
     "name": "stdout",
     "output_type": "stream",
     "text": [
      "(0, 4e-07, 7e-07)\n"
     ]
    }
   ],
   "source": [
    "import numpy as np\n",
    "import sqlite3\n",
    "import os\n",
    "from scipy.spatial import cKDTree # type: ignore \n",
    "main=0\n",
    "\n",
    "base_dir = os.getcwd()\n",
    "DB_PATH = os.path.join(base_dir, \"data\", \"Main.db\")\n",
    "\n",
    "conn = sqlite3.connect(DB_PATH)\n",
    "cursor = conn.cursor()\n",
    "\n",
    "cursor.execute('SELECT * FROM BaseParameter WHERE baseValue=(?)', (main, ))\n",
    "row = cursor.fetchone()\n",
    "\n",
    "print(row)\n",
    "\n",
    "single=row[1]\n",
    "h=row[2]"
   ]
  },
  {
   "cell_type": "code",
   "execution_count": 2,
   "id": "465150e5",
   "metadata": {},
   "outputs": [],
   "source": [
    "N=int(250)*2\n",
    "r=N*single\n",
    "x=np.linspace(-(r/2),(r/2),N)\n",
    "\n",
    "lambda0=0.8e-6\n",
    "lambda1=0.6e-6\n",
    "\n",
    "f=60e-6\n",
    "\n",
    "ftx0 = -(2 * np.pi) / lambda0 * (np.sqrt(x**2 + f**2) - f)\n",
    "ftx0 = np.mod(ftx0, 2 * np.pi)  # wrapTo2Pi\n",
    "\n",
    "ftx1 = -(2 * np.pi) / lambda1 * (np.sqrt(x**2 + f**2) - f)\n",
    "ftx1 = np.mod(ftx1, 2 * np.pi)  # wrapTo2Pi"
   ]
  },
  {
   "cell_type": "code",
   "execution_count": 3,
   "id": "624e1088",
   "metadata": {},
   "outputs": [
    {
     "name": "stdout",
     "output_type": "stream",
     "text": [
      "[[ 2.5146848  -0.45285366]\n",
      " [ 2.53438446 -0.42894523]\n",
      " [ 2.55448533 -0.40309526]\n",
      " ...\n",
      " [-1.30594477  2.62702661]\n",
      " [-1.30594477  2.62702661]\n",
      " [-1.30594477  2.62702661]]\n"
     ]
    }
   ],
   "source": [
    "cursor.execute('SELECT angleIn1, angleIn5 FROM Parameter WHERE baseValue=(?)', (main,))\n",
    "rows = cursor.fetchall()\n",
    "\n",
    "points = np.array(rows)  # 形状为 (M, 2)，M是数据库行数\n",
    "print(points)\n",
    "\n",
    "query_points = np.column_stack((ftx0, ftx1))\n",
    "\n",
    "tree = cKDTree(points, leafsize=40)\n",
    "distances, indices = tree.query(query_points, p=1)\n",
    "\n",
    "di = np.sum(distances)"
   ]
  },
  {
   "cell_type": "code",
   "execution_count": 4,
   "id": "40672190",
   "metadata": {},
   "outputs": [
    {
     "name": "stdout",
     "output_type": "stream",
     "text": [
      "points dtype: float64\n",
      "points shape: (2738, 2)\n"
     ]
    }
   ],
   "source": [
    "cursor.execute('SELECT angleIn1, angleIn5 FROM Parameter WHERE baseValue=(?)', (main,))\n",
    "rows = cursor.fetchall()\n",
    "\n",
    "# 转换为 numpy 数组并检查数据类型\n",
    "points = np.array(rows)\n",
    "print(\"points dtype:\", points.dtype)\n",
    "\n",
    "# 检查是否含 None（数据库 NULL 会变成 Python 的 None）\n",
    "for i, row in enumerate(rows):\n",
    "    if None in row:\n",
    "        raise ValueError(f\"第 {i} 行含有 None 值：{row}\")\n",
    "\n",
    "# 强制转换成 float64，会立刻报错如果有非法值\n",
    "points = np.array(rows, dtype=np.float64)\n",
    "\n",
    "# 检查维度是否为二维，列数必须为2\n",
    "print(\"points shape:\", points.shape)\n",
    "if points.ndim != 2 or points.shape[1] != 2:\n",
    "    raise ValueError(\"points 必须是形状为 (M, 2) 的二维数组\")\n",
    "\n",
    "# 检查数值是否全为有限数\n",
    "if not np.all(np.isfinite(points)):\n",
    "    raise ValueError(\"points 中包含 nan 或 inf\")\n",
    "\n",
    "# 检查是否有空数组\n",
    "if points.shape[0] == 0:\n",
    "    raise ValueError(\"points 数组为空，不能建立 KDTree\")"
   ]
  },
  {
   "cell_type": "code",
   "execution_count": null,
   "id": "88d96ee4",
   "metadata": {},
   "outputs": [],
   "source": []
  },
  {
   "cell_type": "code",
   "execution_count": null,
   "id": "04bdea3e",
   "metadata": {},
   "outputs": [],
   "source": []
  }
 ],
 "metadata": {
  "kernelspec": {
   "display_name": "Meta_env",
   "language": "python",
   "name": "python3"
  },
  "language_info": {
   "codemirror_mode": {
    "name": "ipython",
    "version": 3
   },
   "file_extension": ".py",
   "mimetype": "text/x-python",
   "name": "python",
   "nbconvert_exporter": "python",
   "pygments_lexer": "ipython3",
   "version": "3.11.12"
  }
 },
 "nbformat": 4,
 "nbformat_minor": 5
}
