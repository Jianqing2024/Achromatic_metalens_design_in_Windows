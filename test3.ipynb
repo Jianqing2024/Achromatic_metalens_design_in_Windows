{
 "cells": [
  {
   "cell_type": "code",
   "execution_count": null,
   "id": "caed8a5d",
   "metadata": {},
   "outputs": [],
   "source": [
    "import numpy as np\n",
    "import sqlite3\n",
    "import os\n",
    "from scipy.spatial import cKDTree # type: ignore \n",
    "main=0\n",
    "\n",
    "base_dir = os.getcwd()\n",
    "DB_PATH = os.path.join(base_dir, \"data\", \"Main.db\")\n",
    "\n",
    "conn = sqlite3.connect(DB_PATH)\n",
    "cursor = conn.cursor()\n",
    "\n",
    "cursor.execute('SELECT * FROM BaseParameter WHERE baseValue=(?)', (main, ))\n",
    "row = cursor.fetchone()\n",
    "\n",
    "print(row)\n",
    "\n",
    "single=row[1]\n",
    "h=row[2]"
   ]
  },
  {
   "cell_type": "code",
   "execution_count": null,
   "id": "465150e5",
   "metadata": {},
   "outputs": [],
   "source": [
    "N=int(250)*2\n",
    "r=N*single\n",
    "x=np.linspace(-(r/2),(r/2),N)\n",
    "\n",
    "lambda0=0.8e-6\n",
    "lambda1=0.6e-6\n",
    "\n",
    "f=60e-6\n",
    "\n",
    "ftx0 = -(2 * np.pi) / lambda0 * (np.sqrt(x**2 + f**2) - f)\n",
    "ftx0 = np.mod(ftx0, 2 * np.pi)  # wrapTo2Pi\n",
    "\n",
    "ftx1 = -(2 * np.pi) / lambda1 * (np.sqrt(x**2 + f**2) - f)\n",
    "ftx1 = np.mod(ftx1, 2 * np.pi)  # wrapTo2Pi"
   ]
  },
  {
   "cell_type": "code",
   "execution_count": null,
   "id": "624e1088",
   "metadata": {},
   "outputs": [],
   "source": [
    "cursor.execute('SELECT angleIn1, angleIn5 FROM Parameter WHERE baseValue=(?)', (main,))\n",
    "rows = cursor.fetchall()\n",
    "\n",
    "points = np.array(rows)  # 形状为 (M, 2)，M是数据库行数\n",
    "print(points)\n",
    "\n",
    "query_points = np.column_stack((ftx0, ftx1))\n",
    "\n",
    "tree = cKDTree(points, leafsize=40)\n",
    "distances, indices = tree.query(query_points, p=1)\n",
    "\n",
    "di = np.sum(distances)"
   ]
  },
  {
   "cell_type": "code",
   "execution_count": null,
   "id": "40672190",
   "metadata": {},
   "outputs": [],
   "source": [
    "cursor.execute('SELECT angleIn1, angleIn5 FROM Parameter WHERE baseValue=(?)', (main,))\n",
    "rows = cursor.fetchall()\n",
    "\n",
    "# 转换为 numpy 数组并检查数据类型\n",
    "points = np.array(rows)\n",
    "print(\"points dtype:\", points.dtype)\n",
    "\n",
    "# 检查是否含 None（数据库 NULL 会变成 Python 的 None）\n",
    "for i, row in enumerate(rows):\n",
    "    if None in row:\n",
    "        raise ValueError(f\"第 {i} 行含有 None 值：{row}\")\n",
    "\n",
    "# 强制转换成 float64，会立刻报错如果有非法值\n",
    "points = np.array(rows, dtype=np.float64)\n",
    "\n",
    "# 检查维度是否为二维，列数必须为2\n",
    "print(\"points shape:\", points.shape)\n",
    "if points.ndim != 2 or points.shape[1] != 2:\n",
    "    raise ValueError(\"points 必须是形状为 (M, 2) 的二维数组\")\n",
    "\n",
    "# 检查数值是否全为有限数\n",
    "if not np.all(np.isfinite(points)):\n",
    "    raise ValueError(\"points 中包含 nan 或 inf\")\n",
    "\n",
    "# 检查是否有空数组\n",
    "if points.shape[0] == 0:\n",
    "    raise ValueError(\"points 数组为空，不能建立 KDTree\")"
   ]
  },
  {
   "cell_type": "code",
   "execution_count": null,
   "id": "88d96ee4",
   "metadata": {},
   "outputs": [],
   "source": []
  },
  {
   "cell_type": "code",
   "execution_count": 5,
   "id": "4957601a",
   "metadata": {},
   "outputs": [
    {
     "name": "stdout",
     "output_type": "stream",
     "text": [
      "<Data_quality_evaluation.General_function.Command object at 0x000001FC2CFE51D0>\n"
     ]
    }
   ],
   "source": [
    "from Data_quality_evaluation import General_function as gf\n",
    "COM = gf.Command(0)\n",
    "print(COM)"
   ]
  },
  {
   "cell_type": "code",
   "execution_count": 9,
   "id": "be88613a",
   "metadata": {},
   "outputs": [
    {
     "name": "stdout",
     "output_type": "stream",
     "text": [
      "[array([ 1.        ,  0.99932872,  0.99731488, ...,  1.06223871,\n",
      "       -0.49307214, -2.04945795], shape=(1250,)), array([ 2.        ,  1.99929953,  1.99719814, ...,  2.33812671,\n",
      "        0.71519365, -0.90886111], shape=(1250,)), array([3.        , 2.99926769, 2.99707078, ..., 5.9238901 , 4.22718735,\n",
      "       2.52931192], shape=(1250,)), array([4.        , 3.99923282, 3.99693129, ..., 4.96872786, 3.19122974,\n",
      "       1.4125031 ], shape=(1250,)), array([ 99999.        ,  99998.99919446,  99998.99677786, ...,\n",
      "        99999.07468645,  99997.20831343, 100001.62383577], shape=(1250,))]\n"
     ]
    }
   ],
   "source": [
    "ftx = []\n",
    "shift = [1, 2, 3, 4, 99999]\n",
    "\n",
    "for i in range(5):\n",
    "    ftx.append(COM.TargetPhase[i]+shift[i])\n",
    "print(ftx)"
   ]
  },
  {
   "cell_type": "code",
   "execution_count": 11,
   "id": "04bdea3e",
   "metadata": {},
   "outputs": [
    {
     "name": "stderr",
     "output_type": "stream",
     "text": [
      "Optuna ING:   3%|▎         | 14/500 [00:00<00:03, 132.66it/s]"
     ]
    },
    {
     "name": "stdout",
     "output_type": "stream",
     "text": [
      "Trial 000 found a better value. Value: 552.2757\n",
      "Trial 004 found a better value. Value: 498.4425\n",
      "Trial 006 found a better value. Value: 460.1941\n",
      "Trial 013 found a better value. Value: 404.8368\n",
      "Trial 014 found a better value. Value: 400.2965\n",
      "Trial 015 found a better value. Value: 400.1185\n",
      "Trial 021 found a better value. Value: 395.2227\n"
     ]
    },
    {
     "name": "stderr",
     "output_type": "stream",
     "text": [
      "Optuna ING:   6%|▌         | 28/500 [00:00<00:05, 87.78it/s] "
     ]
    },
    {
     "name": "stdout",
     "output_type": "stream",
     "text": [
      "Trial 022 found a better value. Value: 385.9794\n"
     ]
    },
    {
     "name": "stderr",
     "output_type": "stream",
     "text": [
      "Optuna ING:  17%|█▋        | 84/500 [00:01<00:06, 65.79it/s]"
     ]
    },
    {
     "name": "stdout",
     "output_type": "stream",
     "text": [
      "Trial 071 found a better value. Value: 385.2656\n"
     ]
    },
    {
     "name": "stderr",
     "output_type": "stream",
     "text": [
      "Optuna ING:  21%|██        | 105/500 [00:01<00:06, 62.54it/s]"
     ]
    },
    {
     "name": "stdout",
     "output_type": "stream",
     "text": [
      "Trial 092 found a better value. Value: 384.5785\n",
      "Trial 101 found a better value. Value: 383.5398\n",
      "Trial 102 found a better value. Value: 383.5335\n",
      "Trial 103 found a better value. Value: 381.6348\n"
     ]
    },
    {
     "name": "stderr",
     "output_type": "stream",
     "text": [
      "Optuna ING:  25%|██▌       | 125/500 [00:01<00:06, 59.12it/s]"
     ]
    },
    {
     "name": "stdout",
     "output_type": "stream",
     "text": [
      "Trial 118 found a better value. Value: 380.4086\n",
      "Trial 123 found a better value. Value: 378.5604\n"
     ]
    },
    {
     "name": "stderr",
     "output_type": "stream",
     "text": [
      "Optuna ING:  36%|███▌      | 181/500 [00:02<00:05, 61.03it/s]"
     ]
    },
    {
     "name": "stdout",
     "output_type": "stream",
     "text": [
      "Trial 171 found a better value. Value: 377.4204\n"
     ]
    },
    {
     "name": "stderr",
     "output_type": "stream",
     "text": [
      "Optuna ING:  40%|████      | 202/500 [00:03<00:04, 60.58it/s]"
     ]
    },
    {
     "name": "stdout",
     "output_type": "stream",
     "text": [
      "Trial 194 found a better value. Value: 376.4692\n"
     ]
    },
    {
     "name": "stderr",
     "output_type": "stream",
     "text": [
      "Optuna ING:  84%|████████▍ | 422/500 [00:07<00:01, 52.01it/s]"
     ]
    },
    {
     "name": "stdout",
     "output_type": "stream",
     "text": [
      "Trial 414 found a better value. Value: 376.4019\n",
      "Trial 415 found a better value. Value: 376.2430\n"
     ]
    },
    {
     "name": "stderr",
     "output_type": "stream",
     "text": [
      "Optuna ING: 100%|██████████| 500/500 [00:08<00:00, 57.71it/s]\n"
     ]
    }
   ],
   "source": [
    "from Data_quality_evaluation import Simulation_evaluation as se\n",
    "from Data_quality_evaluation import General_function as gf\n",
    "\n",
    "COM = gf.Command(0)\n",
    "BestParameter, BestValue = se.Optimizer(COM)"
   ]
  },
  {
   "cell_type": "code",
   "execution_count": null,
   "id": "38d829a6",
   "metadata": {},
   "outputs": [],
   "source": []
  },
  {
   "cell_type": "code",
   "execution_count": null,
   "id": "6400e91d",
   "metadata": {},
   "outputs": [],
   "source": []
  }
 ],
 "metadata": {
  "kernelspec": {
   "display_name": "Meta_env",
   "language": "python",
   "name": "python3"
  },
  "language_info": {
   "codemirror_mode": {
    "name": "ipython",
    "version": 3
   },
   "file_extension": ".py",
   "mimetype": "text/x-python",
   "name": "python",
   "nbconvert_exporter": "python",
   "pygments_lexer": "ipython3",
   "version": "3.11.12"
  }
 },
 "nbformat": 4,
 "nbformat_minor": 5
}
