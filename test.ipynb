{
 "cells": [
  {
   "cell_type": "code",
   "execution_count": 1,
   "id": "c5cda2df",
   "metadata": {},
   "outputs": [],
   "source": [
    "import numpy as np\n",
    "import MetaSet as ms\n",
    "from MetaSet import dataCaculate as data\n",
    "from MetaSet import advancedStructure as ad"
   ]
  },
  {
   "cell_type": "code",
   "execution_count": 2,
   "id": "a9dc1ee8",
   "metadata": {},
   "outputs": [],
   "source": [
    "p=0.4e-6\n",
    "h=0.6e-6\n",
    "r=0.12e-6\n",
    "l=0.3e-6\n",
    "w=0.1e-6\n",
    "\n",
    "parameter=[l,w,r]\n",
    "\n",
    "meta=ad.MetaEngine()\n",
    "meta.materialSet() # 暂且如此"
   ]
  },
  {
   "cell_type": "code",
   "execution_count": 3,
   "id": "a1f67a6e",
   "metadata": {},
   "outputs": [],
   "source": [
    "strClass=4\n",
    "meta.baseBuild(p)"
   ]
  },
  {
   "cell_type": "code",
   "execution_count": 4,
   "id": "570cb836",
   "metadata": {},
   "outputs": [],
   "source": [
    "meta.structureBuild(strClass, parameter, h)\n",
    "\n",
    "meta.fdtd.save()"
   ]
  },
  {
   "cell_type": "code",
   "execution_count": 5,
   "id": "a3c6ce87",
   "metadata": {},
   "outputs": [
    {
     "name": "stdout",
     "output_type": "stream",
     "text": [
      "[0.1564463408534716, -2.162962034319993, -5.101423386265772, -7.615054594970369, -9.067630053729719]\n",
      "[0.18935915 0.97800712 0.96306406 0.04640321 0.02302144]\n"
     ]
    }
   ],
   "source": [
    "meta.dataAcquisition()\n",
    "print(meta.Ex)\n",
    "print(meta.Trans)"
   ]
  },
  {
   "cell_type": "code",
   "execution_count": 3,
   "id": "126c3df9",
   "metadata": {},
   "outputs": [],
   "source": [
    "P=np.array([0.4e-6])\n",
    "pp=np.linspace(0.4e-6,0.5e-6,3)"
   ]
  }
 ],
 "metadata": {
  "kernelspec": {
   "display_name": "test_env",
   "language": "python",
   "name": "python3"
  },
  "language_info": {
   "codemirror_mode": {
    "name": "ipython",
    "version": 3
   },
   "file_extension": ".py",
   "mimetype": "text/x-python",
   "name": "python",
   "nbconvert_exporter": "python",
   "pygments_lexer": "ipython3",
   "version": "3.10.16"
  }
 },
 "nbformat": 4,
 "nbformat_minor": 5
}
