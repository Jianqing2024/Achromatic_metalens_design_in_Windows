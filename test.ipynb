{
 "cells": [
  {
   "cell_type": "code",
   "execution_count": 1,
   "id": "c5cda2df",
   "metadata": {},
   "outputs": [],
   "source": [
    "import numpy as np\n",
    "import importlib.util\n",
    "import MetaSet as ms\n",
    "import importlib.util\n",
    "from MetaSet import dataCaculate as data\n",
    "\n",
    "## 全局加载 lumapi 模块\n",
    "spec = importlib.util.spec_from_file_location(\"lumapi\", \"D:\\\\Program Files\\\\Lumerical\\\\v241\\\\api\\\\python\\\\lumapi.py\")\n",
    "lumapi = importlib.util.module_from_spec(spec)\n",
    "spec.loader.exec_module(lumapi)"
   ]
  },
  {
   "cell_type": "code",
   "execution_count": 2,
   "id": "a9dc1ee8",
   "metadata": {},
   "outputs": [],
   "source": [
    "fdtd=lumapi.FDTD(hide=True)\n",
    "\n",
    "fdtd.save(\"aaa.fsp\")\n",
    "\n",
    "material2=\"TiO2 (Titanium Dioxide) - Devore\"\n",
    "\n",
    "ms.setMetaFdtd(fdtd, 0.4e-6, 0.4e-6, 1e-6, -1e-6)\n",
    "ms.addMetaSource(fdtd, 0.4e-6, 0.4e-6, -0.1e-6, [0.532e-6, 0.800e-6])\n",
    "ms.classicMonitorGroup(fdtd, 0.4e-6, 0.4e-6, 0.6e-6)\n",
    "\n",
    "fdtd.run()"
   ]
  },
  {
   "cell_type": "code",
   "execution_count": 3,
   "id": "a1f67a6e",
   "metadata": {},
   "outputs": [
    {
     "name": "stdout",
     "output_type": "stream",
     "text": [
      "[0.99999968 0.99999824 1.00000183 1.00000741 0.9999977 ]\n",
      "[ 0.63494214-0.77264845j  0.98131891-0.19321711j  0.8790021 +0.47673122j\n",
      "  0.37053163+0.92890012j -0.31392888+0.95055811j]\n"
     ]
    }
   ],
   "source": [
    "def classicDataAcquisition_multyWav(fdtd):\n",
    "    T=fdtd.transmission(\"plane\")\n",
    "    T = T.ravel()\n",
    "    Ex=fdtd.getresult(\"point\", \"Ex\")\n",
    "    Ex = Ex.ravel()\n",
    "    return Ex, T \n",
    "\n",
    "Ex,T=classicDataAcquisition_multyWav(fdtd)\n",
    "\n",
    "print(T)\n",
    "print(Ex)"
   ]
  },
  {
   "cell_type": "code",
   "execution_count": 4,
   "id": "bed64b65",
   "metadata": {},
   "outputs": [
    {
     "name": "stdout",
     "output_type": "stream",
     "text": [
      "[0.99999968 0.99999824 1.00000183 1.00000741 0.9999977 ]\n",
      "[ 0.63494214-0.77264845j  0.98131891-0.19321711j  0.8790021 +0.47673122j\n",
      "  0.37053163+0.92890012j -0.31392888+0.95055811j]\n"
     ]
    }
   ],
   "source": [
    "T=fdtd.transmission(\"plane\")\n",
    "T = T.ravel()\n",
    "Ex=fdtd.getresult(\"point\", \"Ex\")\n",
    "Ex = Ex.ravel()\n",
    "\n",
    "print(T)\n",
    "print(Ex)"
   ]
  },
  {
   "cell_type": "code",
   "execution_count": 5,
   "id": "570cb836",
   "metadata": {},
   "outputs": [
    {
     "name": "stdout",
     "output_type": "stream",
     "text": [
      "<class 'numpy.ndarray'>\n",
      "[0.99999968 0.99999824 1.00000183 1.00000741 0.9999977 ]\n",
      "[ 0.63494214-0.77264845j  0.98131891-0.19321711j  0.8790021 +0.47673122j\n",
      "  0.37053163+0.92890012j -0.31392888+0.95055811j]\n"
     ]
    }
   ],
   "source": [
    "Ex,T=data.classicDataAcquisition_multyWav(fdtd)\n",
    "\n",
    "print(T)\n",
    "print(Ex)"
   ]
  },
  {
   "cell_type": "code",
   "execution_count": 10,
   "id": "a3c6ce87",
   "metadata": {},
   "outputs": [
    {
     "name": "stdout",
     "output_type": "stream",
     "text": [
      "(2, 1, 0, 7.5e-08, None, None, None, None, None, None, None, None, None, None, None, None)\n",
      "<class 'tuple'>\n",
      "[7.5e-08, None, None]\n"
     ]
    }
   ],
   "source": [
    "import sqlite3\n",
    "DB_PATH = 'D:/WORK/Achromatic_metalens_design_in_Windows/data/Main.db'\n",
    "conn = sqlite3.connect(DB_PATH)\n",
    "cursor = conn.cursor()\n",
    "\n",
    "query = f\"SELECT * FROM Parameter WHERE ID = ?\"\n",
    "cursor.execute(query, (2,))\n",
    "    \n",
    "row = cursor.fetchone()  # 获取第一行（因为ID唯一）\n",
    "\n",
    "print(row)\n",
    "print(type(row))\n",
    "\n",
    "parameter=[row[3],row[4],row[5]]\n",
    "print(parameter)\n",
    "\n",
    "conn.close()"
   ]
  }
 ],
 "metadata": {
  "kernelspec": {
   "display_name": "test_env",
   "language": "python",
   "name": "python3"
  },
  "language_info": {
   "codemirror_mode": {
    "name": "ipython",
    "version": 3
   },
   "file_extension": ".py",
   "mimetype": "text/x-python",
   "name": "python",
   "nbconvert_exporter": "python",
   "pygments_lexer": "ipython3",
   "version": "3.10.16"
  }
 },
 "nbformat": 4,
 "nbformat_minor": 5
}
