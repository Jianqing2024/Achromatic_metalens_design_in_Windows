{
 "cells": [
  {
   "cell_type": "code",
   "execution_count": null,
   "id": "c5cda2df",
   "metadata": {},
   "outputs": [
    {
     "name": "stdout",
     "output_type": "stream",
     "text": [
      "数据库已上线\n"
     ]
    }
   ],
   "source": [
    "import numpy as np\n",
    "import importlib.util\n",
    "import sqlite3\n",
    "import importlib.util\n",
    "\n",
    "## 全局加载 lumapi 模块\n",
    "spec = importlib.util.spec_from_file_location(\"lumapi\", \"D:\\\\Program Files\\\\Lumerical\\\\v241\\\\api\\\\python\\\\lumapi.py\")\n",
    "lumapi = importlib.util.module_from_spec(spec)\n",
    "spec.loader.exec_module(lumapi)\n",
    "\n",
    "## 链接到主数据库\n",
    "DB_PATH = 'D:/WORK/Achromatic_metalens_design_in_Windows/data/Main.db'\n",
    "conn = sqlite3.connect(DB_PATH)\n",
    "cursor = conn.cursor()\n",
    "print('数据库已上线')\n",
    "\n",
    "## 定义参数\n",
    "#  定义并加载主参数，储存到附表\n",
    "P=np.linspace(0.2e-6,0.5e-6,5)\n",
    "\n",
    "H=np.linspace(0.4e-6,0.8e-6,5)\n",
    "\n",
    "baseValue = np.full((0, 2), np.nan)\n",
    "for p in P:\n",
    "    for h in H:\n",
    "        baseValue=np.vstack([baseValue, np.array([p, h])])\n",
    "        \n",
    "BaseParameter = {i: tuple(row) for i, row in enumerate(baseValue)}"
   ]
  },
  {
   "cell_type": "code",
   "execution_count": 7,
   "id": "a9dc1ee8",
   "metadata": {},
   "outputs": [],
   "source": [
    "for key, value in BaseParameter.items():\n",
    "    cursor.execute(\"\"\"\n",
    "    INSERT INTO BaseParameter (baseValue, parameterA, parameterB)\n",
    "    VALUES (?, ?, ?)\n",
    "    \"\"\", (int(key), value[0], value[1]))\n",
    "    \n",
    "conn.commit()"
   ]
  },
  {
   "cell_type": "code",
   "execution_count": null,
   "id": "a1f67a6e",
   "metadata": {},
   "outputs": [],
   "source": [
    "structerClass=1\n",
    "\n"
   ]
  },
  {
   "cell_type": "code",
   "execution_count": null,
   "id": "bed64b65",
   "metadata": {},
   "outputs": [],
   "source": [
    "if structerClass==1:\n",
    "    R=np.linspace(0.04e-6, 0.18e-6, 20)\n",
    "    allParameterPet = np.full((0, 3), np.nan)\n",
    "    for r in R:\n",
    "        for p in P:\n",
    "            for h in H:\n",
    "                if 2*r<p:\n",
    "                    allParameterPet = np.vstack([allParameterPet, np.array([p, h, r])])\n",
    "    for row in allParameterPet:\n",
    "            ba=np.array([row[0],row[1]])\n",
    "            key=next((k for k, v in BaseParameter.items() if np.array_equal(v, ba)), None)\n",
    "            parameterA=row[2]\n",
    "            cursor.execute(\"\"\"\n",
    "                INSERT INTO Parameter (class, baseValue, parameterA)\n",
    "                VALUES (?, ?, ?)\n",
    "                \"\"\", (structerClass, key, parameterA))             \n",
    "    conn.commit()\n",
    "    conn.close()"
   ]
  },
  {
   "cell_type": "code",
   "execution_count": 12,
   "id": "431ca08a",
   "metadata": {},
   "outputs": [
    {
     "ename": "SyntaxError",
     "evalue": "invalid syntax (4202193245.py, line 1)",
     "output_type": "error",
     "traceback": [
      "\u001b[1;36m  Cell \u001b[1;32mIn[12], line 1\u001b[1;36m\u001b[0m\n\u001b[1;33m    elif structerClass==2:\u001b[0m\n\u001b[1;37m    ^\u001b[0m\n\u001b[1;31mSyntaxError\u001b[0m\u001b[1;31m:\u001b[0m invalid syntax\n"
     ]
    }
   ],
   "source": [
    "elif structerClass==2:\n",
    "    L=np.linspace(0.04e-6, 0.18e-6, 20)\n",
    "    allParameterPet = np.full((0, 3), np.nan)\n",
    "    for l in L:\n",
    "        for p in P:\n",
    "            for h in H:\n",
    "                if 2*r<p:\n",
    "                    allParameterPet = np.vstack([allParameterPet, np.array([p, h, r])])"
   ]
  },
  {
   "cell_type": "code",
   "execution_count": null,
   "id": "7b4493e0",
   "metadata": {},
   "outputs": [],
   "source": []
  }
 ],
 "metadata": {
  "kernelspec": {
   "display_name": "test_env",
   "language": "python",
   "name": "python3"
  },
  "language_info": {
   "codemirror_mode": {
    "name": "ipython",
    "version": 3
   },
   "file_extension": ".py",
   "mimetype": "text/x-python",
   "name": "python",
   "nbconvert_exporter": "python",
   "pygments_lexer": "ipython3",
   "version": "3.10.16"
  }
 },
 "nbformat": 4,
 "nbformat_minor": 5
}
