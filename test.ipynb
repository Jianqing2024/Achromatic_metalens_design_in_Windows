{
 "cells": [
  {
   "cell_type": "code",
   "execution_count": 1,
   "id": "854b1319",
   "metadata": {},
   "outputs": [
    {
     "name": "stderr",
     "output_type": "stream",
     "text": [
      "d:\\software\\anaconda\\envs\\Meta_env\\Lib\\site-packages\\tqdm\\auto.py:21: TqdmWarning: IProgress not found. Please update jupyter and ipywidgets. See https://ipywidgets.readthedocs.io/en/stable/user_install.html\n",
      "  from .autonotebook import tqdm as notebook_tqdm\n"
     ]
    },
    {
     "name": "stdout",
     "output_type": "stream",
     "text": [
      "11\n"
     ]
    },
    {
     "name": "stderr",
     "output_type": "stream",
     "text": [
      "Optuna ING: 100%|██████████| 1000/1000 [00:19<00:00, 50.88it/s]\n"
     ]
    },
    {
     "name": "stdout",
     "output_type": "stream",
     "text": [
      "BestValue : 5136.903262774802\n",
      "{'shift0': -0.031175179888417795, 'shift1': -0.21291762014173368, 'shift2': 0.02263411902517745, 'shift3': -0.08472127728780465, 'shift4': 0.02757707337694479, 'f_shift': 4.7377768397287846e-05}\n",
      "[[ 7762  7835 29526 ... 29526  7835  7762]\n",
      " [ 7835 29526  7307 ...  7307 29526  7835]\n",
      " [29526  7307  7708 ...  7708  7307 29526]\n",
      " ...\n",
      " [29526  7307  7708 ...  7708  7307 29526]\n",
      " [ 7835 29526  7307 ...  7307 29526  7835]\n",
      " [ 7762  7835 29526 ... 29526  7835  7762]]\n"
     ]
    }
   ],
   "source": [
    "from Data_quality_evaluation import main\n",
    "\n",
    "f_percent, COM = main.Comprehensive_Evaluation_simple()"
   ]
  },
  {
   "cell_type": "code",
   "execution_count": 7,
   "id": "eeded36e",
   "metadata": {},
   "outputs": [
    {
     "name": "stdout",
     "output_type": "stream",
     "text": [
      "4.3333333333333335e-07\n",
      "0.00024006666666666668\n",
      "554\n"
     ]
    }
   ],
   "source": [
    "print(COM.single)\n",
    "print(COM.r)\n",
    "print(COM.N)"
   ]
  },
  {
   "cell_type": "code",
   "execution_count": null,
   "id": "42fbb98b",
   "metadata": {},
   "outputs": [],
   "source": []
  }
 ],
 "metadata": {
  "kernelspec": {
   "display_name": "Meta_env",
   "language": "python",
   "name": "python3"
  },
  "language_info": {
   "codemirror_mode": {
    "name": "ipython",
    "version": 3
   },
   "file_extension": ".py",
   "mimetype": "text/x-python",
   "name": "python",
   "nbconvert_exporter": "python",
   "pygments_lexer": "ipython3",
   "version": "3.11.13"
  }
 },
 "nbformat": 4,
 "nbformat_minor": 5
}
