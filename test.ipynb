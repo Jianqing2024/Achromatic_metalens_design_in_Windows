{
 "cells": [
  {
   "cell_type": "code",
   "execution_count": 26,
   "id": "c5cda2df",
   "metadata": {},
   "outputs": [],
   "source": [
    "from MetaSet import advancedStructure as ad\n",
    "import numpy as np\n",
    "\n",
    "def main(meta, name):\n",
    "    meta.materialSet()\n",
    "    meta.baseBuild(0.4e-6)\n",
    "    meta.structureBuild(2, [0.1e-6], 0.6e-6)\n",
    "    meta.fdtd.save(name)\n",
    "    meta.fdtd.addjob(name)\n",
    "    meta.fdtd.close()\n",
    "\n",
    "meta=ad.MetaEngine()\n",
    "meta.materialSet()\n",
    "meta.baseBuild(0.4e-6)\n",
    "meta.structureBuild(4, [0.4e-6,0.1e-6,0.12e-6], 0.6e-6)\n",
    "\n",
    "for i in range(4):\n",
    "    name=f'test{i}.fsp'\n",
    "    meta.fdtd.save(name)\n",
    "    meta.fdtd.addjob(name)"
   ]
  },
  {
   "cell_type": "code",
   "execution_count": 27,
   "id": "a9dc1ee8",
   "metadata": {},
   "outputs": [],
   "source": [
    "meta.fdtd.runjobs()"
   ]
  },
  {
   "cell_type": "code",
   "execution_count": 28,
   "id": "570cb836",
   "metadata": {},
   "outputs": [
    {
     "name": "stdout",
     "output_type": "stream",
     "text": [
      "[[0.95894783]\n",
      " [0.72284618]\n",
      " [0.97927418]\n",
      " [0.08281982]\n",
      " [0.36269824]]\n",
      "[[0.95894783]\n",
      " [0.72284618]\n",
      " [0.97927418]\n",
      " [0.08281982]\n",
      " [0.36269824]]\n",
      "[[0.95894783]\n",
      " [0.72284618]\n",
      " [0.97927418]\n",
      " [0.08281982]\n",
      " [0.36269824]]\n",
      "[[0.95894783]\n",
      " [0.72284618]\n",
      " [0.97927418]\n",
      " [0.08281982]\n",
      " [0.36269824]]\n"
     ]
    }
   ],
   "source": [
    "for i in range(4):\n",
    "    name=f'test{i}.fsp'\n",
    "    meta.fdtd.load(name)\n",
    "    Trans = meta.fdtd.transmission(\"plane\")\n",
    "    print(Trans)"
   ]
  },
  {
   "cell_type": "code",
   "execution_count": 8,
   "id": "4cc1c668",
   "metadata": {},
   "outputs": [
    {
     "name": "stdout",
     "output_type": "stream",
     "text": [
      "[[0.97893937]\n",
      " [0.96628934]\n",
      " [0.96716401]\n",
      " [0.9762918 ]\n",
      " [0.94940644]]\n"
     ]
    }
   ],
   "source": [
    "meta.fdtd.load('test0.fsp')\n",
    "Trans = meta.fdtd.transmission(\"plane\")\n",
    "print(Trans)"
   ]
  },
  {
   "cell_type": "code",
   "execution_count": null,
   "id": "a3c6ce87",
   "metadata": {},
   "outputs": [],
   "source": []
  },
  {
   "cell_type": "code",
   "execution_count": null,
   "id": "126c3df9",
   "metadata": {},
   "outputs": [],
   "source": []
  }
 ],
 "metadata": {
  "kernelspec": {
   "display_name": "test_env",
   "language": "python",
   "name": "python3"
  },
  "language_info": {
   "codemirror_mode": {
    "name": "ipython",
    "version": 3
   },
   "file_extension": ".py",
   "mimetype": "text/x-python",
   "name": "python",
   "nbconvert_exporter": "python",
   "pygments_lexer": "ipython3",
   "version": "3.10.16"
  }
 },
 "nbformat": 4,
 "nbformat_minor": 5
}
