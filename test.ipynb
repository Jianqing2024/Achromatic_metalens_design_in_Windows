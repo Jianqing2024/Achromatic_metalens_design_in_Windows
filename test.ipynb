{
 "cells": [
  {
   "cell_type": "code",
   "execution_count": 1,
   "id": "c5cda2df",
   "metadata": {},
   "outputs": [],
   "source": [
    "from MetaSet import advancedStructure as ad\n",
    "import numpy as np\n",
    "\n",
    "def main(meta, name):\n",
    "    meta.materialSet()\n",
    "    meta.baseBuild(0.4e-6)\n",
    "    meta.structureBuild(2, [0.1e-6], 0.6e-6)\n",
    "    meta.fdtd.save(name)\n",
    "    meta.fdtd.addjob(name)\n",
    "    meta.fdtd.close()\n",
    "\n",
    "meta=ad.MetaEngine()\n",
    "meta.materialSet()\n",
    "meta.baseBuild(0.4e-6)\n",
    "meta.structureBuild(4, [0.4e-6,0.1e-6,0.12e-6], 0.6e-6)\n",
    "\n",
    "for i in range(4):\n",
    "    name=f'test{i}.fsp'\n",
    "    meta.fdtd.save(name)\n",
    "    meta.fdtd.addjob(name)"
   ]
  },
  {
   "cell_type": "code",
   "execution_count": 2,
   "id": "a9dc1ee8",
   "metadata": {},
   "outputs": [],
   "source": [
    "meta.fdtd.runjobs()"
   ]
  },
  {
   "cell_type": "code",
   "execution_count": 3,
   "id": "570cb836",
   "metadata": {},
   "outputs": [
    {
     "name": "stdout",
     "output_type": "stream",
     "text": [
      "[[0.95894783]\n",
      " [0.72284618]\n",
      " [0.97927418]\n",
      " [0.08281982]\n",
      " [0.36269824]]\n",
      "[[0.95894783]\n",
      " [0.72284618]\n",
      " [0.97927418]\n",
      " [0.08281982]\n",
      " [0.36269824]]\n",
      "[[0.95894783]\n",
      " [0.72284618]\n",
      " [0.97927418]\n",
      " [0.08281982]\n",
      " [0.36269824]]\n",
      "[[0.95894783]\n",
      " [0.72284618]\n",
      " [0.97927418]\n",
      " [0.08281982]\n",
      " [0.36269824]]\n"
     ]
    }
   ],
   "source": [
    "for i in range(4):\n",
    "    name=f'test{i}.fsp'\n",
    "    meta.fdtd.load(name)\n",
    "    Trans = meta.fdtd.transmission(\"plane\")\n",
    "    print(Trans)"
   ]
  },
  {
   "cell_type": "code",
   "execution_count": null,
   "id": "4cc1c668",
   "metadata": {},
   "outputs": [],
   "source": [
    "meta.fdtd.load('test0.fsp')\n",
    "Trans = meta.fdtd.transmission(\"plane\")\n",
    "print(Trans)"
   ]
  },
  {
   "cell_type": "code",
   "execution_count": 6,
   "id": "a3c6ce87",
   "metadata": {},
   "outputs": [
    {
     "ename": "LumApiError",
     "evalue": "'Only 1 simulation area is supported.'",
     "output_type": "error",
     "traceback": [
      "\u001b[1;31m---------------------------------------------------------------------------\u001b[0m",
      "\u001b[1;31mLumApiError\u001b[0m                               Traceback (most recent call last)",
      "Cell \u001b[1;32mIn[6], line 2\u001b[0m\n\u001b[0;32m      1\u001b[0m meta\u001b[38;5;241m.\u001b[39mfdtd\u001b[38;5;241m.\u001b[39mswitchtolayout()\n\u001b[1;32m----> 2\u001b[0m \u001b[43mmeta\u001b[49m\u001b[38;5;241;43m.\u001b[39;49m\u001b[43mbaseBuild\u001b[49m\u001b[43m(\u001b[49m\u001b[38;5;241;43m0.4e-6\u001b[39;49m\u001b[43m)\u001b[49m\n",
      "File \u001b[1;32md:\\WORK\\Achromatic_metalens_design_in_Windows\\MetaSet\\advancedStructure.py:61\u001b[0m, in \u001b[0;36mMetaEngine.baseBuild\u001b[1;34m(self, p)\u001b[0m\n\u001b[0;32m     60\u001b[0m \u001b[38;5;28;01mdef\u001b[39;00m\u001b[38;5;250m \u001b[39m\u001b[38;5;21mbaseBuild\u001b[39m(\u001b[38;5;28mself\u001b[39m, p):\n\u001b[1;32m---> 61\u001b[0m     \u001b[43msetMetaFdtd\u001b[49m\u001b[43m(\u001b[49m\u001b[38;5;28;43mself\u001b[39;49m\u001b[38;5;241;43m.\u001b[39;49m\u001b[43mfdtd\u001b[49m\u001b[43m,\u001b[49m\u001b[43m \u001b[49m\u001b[43mp\u001b[49m\u001b[43m,\u001b[49m\u001b[43m \u001b[49m\u001b[43mp\u001b[49m\u001b[43m,\u001b[49m\u001b[43m \u001b[49m\u001b[38;5;241;43m1e-6\u001b[39;49m\u001b[43m,\u001b[49m\u001b[43m \u001b[49m\u001b[38;5;241;43m-\u001b[39;49m\u001b[38;5;241;43m0.5e-6\u001b[39;49m\u001b[43m)\u001b[49m\n\u001b[0;32m     62\u001b[0m     classicMonitorGroup(\u001b[38;5;28mself\u001b[39m\u001b[38;5;241m.\u001b[39mfdtd, p, p, \u001b[38;5;241m1e-6\u001b[39m)\n\u001b[0;32m     63\u001b[0m     addMetaBase(\u001b[38;5;28mself\u001b[39m\u001b[38;5;241m.\u001b[39mfdtd, \u001b[38;5;28mself\u001b[39m\u001b[38;5;241m.\u001b[39mbaseMaterial, p, p, \u001b[38;5;241m1e-6\u001b[39m)\n",
      "File \u001b[1;32md:\\WORK\\Achromatic_metalens_design_in_Windows\\MetaSet\\structSet.py:12\u001b[0m, in \u001b[0;36msetMetaFdtd\u001b[1;34m(fdtd, size_x, size_y, zmax, zmin)\u001b[0m\n\u001b[0;32m      1\u001b[0m \u001b[38;5;28;01mdef\u001b[39;00m\u001b[38;5;250m \u001b[39m\u001b[38;5;21msetMetaFdtd\u001b[39m(fdtd, size_x, size_y, zmax, zmin):\n\u001b[0;32m      2\u001b[0m \u001b[38;5;250m    \u001b[39m\u001b[38;5;124;03m\"\"\"生成一个四周为周期性边界条件、上下两端为PML边界条件的FDTD区域.\u001b[39;00m\n\u001b[0;32m      3\u001b[0m \u001b[38;5;124;03m        由于在x-y面上时常不对称,因此用zmax和zmin定义z方向的数值\u001b[39;00m\n\u001b[0;32m      4\u001b[0m \n\u001b[1;32m   (...)\u001b[0m\n\u001b[0;32m     10\u001b[0m \u001b[38;5;124;03m        zmin (double): 字面\u001b[39;00m\n\u001b[0;32m     11\u001b[0m \u001b[38;5;124;03m    \"\"\"\u001b[39;00m\n\u001b[1;32m---> 12\u001b[0m     \u001b[43mfdtd\u001b[49m\u001b[38;5;241;43m.\u001b[39;49m\u001b[43maddfdtd\u001b[49m\u001b[43m(\u001b[49m\u001b[43m)\u001b[49m\n\u001b[0;32m     14\u001b[0m     fdtd\u001b[38;5;241m.\u001b[39mset(\u001b[38;5;124m\"\u001b[39m\u001b[38;5;124mx span\u001b[39m\u001b[38;5;124m\"\u001b[39m, size_x)\n\u001b[0;32m     15\u001b[0m     fdtd\u001b[38;5;241m.\u001b[39mset(\u001b[38;5;124m\"\u001b[39m\u001b[38;5;124my span\u001b[39m\u001b[38;5;124m\"\u001b[39m, size_y)\n",
      "File \u001b[1;32mD:\\Program Files\\Lumerical\\v241\\api\\python\\lumapi.py:1255\u001b[0m, in \u001b[0;36mLumerical.__init__.<locals>.<lambda>\u001b[1;34m(self, *args, **kwargs)\u001b[0m\n\u001b[0;32m   1252\u001b[0m \u001b[38;5;28;01mfor\u001b[39;00m name \u001b[38;5;129;01min\u001b[39;00m [n \u001b[38;5;28;01mfor\u001b[39;00m n \u001b[38;5;129;01min\u001b[39;00m commands \u001b[38;5;28;01mif\u001b[39;00m n \u001b[38;5;129;01mnot\u001b[39;00m \u001b[38;5;129;01min\u001b[39;00m functionsToExclude]:\n\u001b[0;32m   1253\u001b[0m     \u001b[38;5;28;01mif\u001b[39;00m name \u001b[38;5;129;01min\u001b[39;00m addScriptCommands:\n\u001b[0;32m   1254\u001b[0m         method \u001b[38;5;241m=\u001b[39m (\u001b[38;5;28;01mlambda\u001b[39;00m x: \u001b[38;5;28;01mlambda\u001b[39;00m \u001b[38;5;28mself\u001b[39m, \u001b[38;5;241m*\u001b[39margs, \u001b[38;5;241m*\u001b[39m\u001b[38;5;241m*\u001b[39mkwargs:\n\u001b[1;32m-> 1255\u001b[0m         appCallWithConstructor(\u001b[38;5;28mself\u001b[39m, x, args, \u001b[38;5;241m*\u001b[39m\u001b[38;5;241m*\u001b[39mkwargs))(name)\n\u001b[0;32m   1256\u001b[0m     \u001b[38;5;28;01melse\u001b[39;00m:\n\u001b[0;32m   1257\u001b[0m         method \u001b[38;5;241m=\u001b[39m (\u001b[38;5;28;01mlambda\u001b[39;00m x: \u001b[38;5;28;01mlambda\u001b[39;00m \u001b[38;5;28mself\u001b[39m, \u001b[38;5;241m*\u001b[39margs: appCall(\u001b[38;5;28mself\u001b[39m, x, args))(name)\n",
      "File \u001b[1;32mD:\\Program Files\\Lumerical\\v241\\api\\python\\lumapi.py:821\u001b[0m, in \u001b[0;36mappCallWithConstructor\u001b[1;34m(self, funcName, *args, **kwargs)\u001b[0m\n\u001b[0;32m    820\u001b[0m \u001b[38;5;28;01mdef\u001b[39;00m\u001b[38;5;250m \u001b[39m\u001b[38;5;21mappCallWithConstructor\u001b[39m(\u001b[38;5;28mself\u001b[39m, funcName, \u001b[38;5;241m*\u001b[39margs, \u001b[38;5;241m*\u001b[39m\u001b[38;5;241m*\u001b[39mkwargs):\n\u001b[1;32m--> 821\u001b[0m     \u001b[43mappCall\u001b[49m\u001b[43m(\u001b[49m\u001b[38;5;28;43mself\u001b[39;49m\u001b[43m,\u001b[49m\u001b[43m \u001b[49m\u001b[43mfuncName\u001b[49m\u001b[43m,\u001b[49m\u001b[43m \u001b[49m\u001b[38;5;241;43m*\u001b[39;49m\u001b[43margs\u001b[49m\u001b[43m)\u001b[49m\n\u001b[0;32m    822\u001b[0m     \u001b[38;5;28;01mif\u001b[39;00m \u001b[38;5;124m\"\u001b[39m\u001b[38;5;124mproperties\u001b[39m\u001b[38;5;124m\"\u001b[39m \u001b[38;5;129;01min\u001b[39;00m kwargs:\n\u001b[0;32m    823\u001b[0m         \u001b[38;5;28;01mif\u001b[39;00m \u001b[38;5;129;01mnot\u001b[39;00m \u001b[38;5;28misinstance\u001b[39m(kwargs[\u001b[38;5;124m\"\u001b[39m\u001b[38;5;124mproperties\u001b[39m\u001b[38;5;124m\"\u001b[39m], collections\u001b[38;5;241m.\u001b[39mOrderedDict):\n",
      "File \u001b[1;32mD:\\Program Files\\Lumerical\\v241\\api\\python\\lumapi.py:899\u001b[0m, in \u001b[0;36mappCall\u001b[1;34m(self, name, *args)\u001b[0m\n\u001b[0;32m    897\u001b[0m         argLumTypes \u001b[38;5;241m=\u001b[39m lumTypes(\u001b[38;5;28mlist\u001b[39m(args[\u001b[38;5;241m0\u001b[39m]))\n\u001b[0;32m    898\u001b[0m         message \u001b[38;5;241m+\u001b[39m\u001b[38;5;241m=\u001b[39m (\u001b[38;5;124m\"\u001b[39m\u001b[38;5;124m - \u001b[39m\u001b[38;5;124m\"\u001b[39m \u001b[38;5;241m+\u001b[39m name \u001b[38;5;241m+\u001b[39m \u001b[38;5;124m\"\u001b[39m\u001b[38;5;124m arguments were converted to (\u001b[39m\u001b[38;5;124m\"\u001b[39m \u001b[38;5;241m+\u001b[39m \u001b[38;5;124m\"\u001b[39m\u001b[38;5;124m, \u001b[39m\u001b[38;5;124m\"\u001b[39m\u001b[38;5;241m.\u001b[39mjoin(argLumTypes) \u001b[38;5;241m+\u001b[39m \u001b[38;5;124m\"\u001b[39m\u001b[38;5;124m)\u001b[39m\u001b[38;5;124m\"\u001b[39m)\n\u001b[1;32m--> 899\u001b[0m     \u001b[38;5;28;01mraise\u001b[39;00m LumApiError(message)\n\u001b[0;32m    900\u001b[0m \u001b[38;5;28;01mif\u001b[39;00m \u001b[38;5;28misinstance\u001b[39m(rvals[\u001b[38;5;241m0\u001b[39m], \u001b[38;5;28mstr\u001b[39m) \u001b[38;5;129;01mand\u001b[39;00m (rvals[\u001b[38;5;241m0\u001b[39m] \u001b[38;5;241m==\u001b[39m \u001b[38;5;124m\"\u001b[39m\u001b[38;5;124md6d8d1b2c083c251\u001b[39m\u001b[38;5;124m\"\u001b[39m):\n\u001b[0;32m    901\u001b[0m     rvals[\u001b[38;5;241m0\u001b[39m] \u001b[38;5;241m=\u001b[39m \u001b[38;5;28;01mNone\u001b[39;00m\n",
      "\u001b[1;31mLumApiError\u001b[0m: 'Only 1 simulation area is supported.'"
     ]
    }
   ],
   "source": [
    "meta.fdtd.switchtolayout()\n",
    "meta.baseBuild(0.4e-6)"
   ]
  },
  {
   "cell_type": "code",
   "execution_count": null,
   "id": "126c3df9",
   "metadata": {},
   "outputs": [],
   "source": []
  }
 ],
 "metadata": {
  "kernelspec": {
   "display_name": "test_env",
   "language": "python",
   "name": "python3"
  },
  "language_info": {
   "codemirror_mode": {
    "name": "ipython",
    "version": 3
   },
   "file_extension": ".py",
   "mimetype": "text/x-python",
   "name": "python",
   "nbconvert_exporter": "python",
   "pygments_lexer": "ipython3",
   "version": "3.10.16"
  }
 },
 "nbformat": 4,
 "nbformat_minor": 5
}
