{
 "cells": [
  {
   "cell_type": "code",
   "execution_count": 8,
   "id": "c5cda2df",
   "metadata": {},
   "outputs": [],
   "source": [
    "import numpy as np\n",
    "from Exhaustive_parameter_sweep import main\n",
    "from Exhaustive_parameter_sweep import dataManager\n",
    "from Exhaustive_parameter_sweep import compute"
   ]
  },
  {
   "cell_type": "code",
   "execution_count": 9,
   "id": "a9dc1ee8",
   "metadata": {},
   "outputs": [],
   "source": [
    "ids=dataManager.resumeTaskDirectory()"
   ]
  },
  {
   "cell_type": "code",
   "execution_count": 10,
   "id": "a1f67a6e",
   "metadata": {},
   "outputs": [
    {
     "name": "stderr",
     "output_type": "stream",
     "text": [
      "Base structures:   0%|          | 0/2 [01:01<?, ?group/s]\n"
     ]
    },
    {
     "ename": "KeyboardInterrupt",
     "evalue": "",
     "output_type": "error",
     "traceback": [
      "\u001b[1;31m---------------------------------------------------------------------------\u001b[0m",
      "\u001b[1;31mKeyboardInterrupt\u001b[0m                         Traceback (most recent call last)",
      "Cell \u001b[1;32mIn[10], line 1\u001b[0m\n\u001b[1;32m----> 1\u001b[0m \u001b[43mcompute\u001b[49m\u001b[38;5;241;43m.\u001b[39;49m\u001b[43mComput\u001b[49m\u001b[43m(\u001b[49m\u001b[43mids\u001b[49m\u001b[43m)\u001b[49m\n",
      "File \u001b[1;32md:\\WORK\\Achromatic_metalens_design_in_Windows\\Exhaustive_parameter_sweep\\compute.py:36\u001b[0m, in \u001b[0;36mComput\u001b[1;34m(ids)\u001b[0m\n\u001b[0;32m     33\u001b[0m parameter \u001b[38;5;241m=\u001b[39m [row[\u001b[38;5;241m3\u001b[39m], row[\u001b[38;5;241m4\u001b[39m], row[\u001b[38;5;241m5\u001b[39m]]\n\u001b[0;32m     35\u001b[0m meta\u001b[38;5;241m.\u001b[39mstructureBuild(strClass, parameter, h)\n\u001b[1;32m---> 36\u001b[0m \u001b[43mmeta\u001b[49m\u001b[38;5;241;43m.\u001b[39;49m\u001b[43mdataAcquisition\u001b[49m\u001b[43m(\u001b[49m\u001b[43m)\u001b[49m\n\u001b[0;32m     37\u001b[0m dataInput(meta, \u001b[38;5;28mid\u001b[39m, conn, cursor)\n\u001b[0;32m     38\u001b[0m meta\u001b[38;5;241m.\u001b[39msemi_Reset()\n",
      "File \u001b[1;32md:\\WORK\\Achromatic_metalens_design_in_Windows\\MetaSet\\advancedStructure.py:79\u001b[0m, in \u001b[0;36mMetaEngine.dataAcquisition\u001b[1;34m(self)\u001b[0m\n\u001b[0;32m     76\u001b[0m \u001b[38;5;28mself\u001b[39m\u001b[38;5;241m.\u001b[39mTrans\u001b[38;5;241m=\u001b[39m[]\n\u001b[0;32m     78\u001b[0m \u001b[38;5;66;03m#   重新运算并存入数据\u001b[39;00m\n\u001b[1;32m---> 79\u001b[0m \u001b[38;5;28;43mself\u001b[39;49m\u001b[38;5;241;43m.\u001b[39;49m\u001b[43mfdtd\u001b[49m\u001b[38;5;241;43m.\u001b[39;49m\u001b[43mrun\u001b[49m\u001b[43m(\u001b[49m\u001b[43m)\u001b[49m\n\u001b[0;32m     80\u001b[0m Ex, Trans \u001b[38;5;241m=\u001b[39m classicDataAcquisition_multyWav(\u001b[38;5;28mself\u001b[39m\u001b[38;5;241m.\u001b[39mfdtd)\n\u001b[0;32m     82\u001b[0m phase_array \u001b[38;5;241m=\u001b[39m np\u001b[38;5;241m.\u001b[39mangle(np\u001b[38;5;241m.\u001b[39marray(Ex))[::\u001b[38;5;241m-\u001b[39m\u001b[38;5;241m1\u001b[39m]\n",
      "File \u001b[1;32mD:\\Program Files\\Lumerical\\v241\\api\\python\\lumapi.py:1257\u001b[0m, in \u001b[0;36mLumerical.__init__.<locals>.<lambda>\u001b[1;34m(self, *args)\u001b[0m\n\u001b[0;32m   1254\u001b[0m     method \u001b[38;5;241m=\u001b[39m (\u001b[38;5;28;01mlambda\u001b[39;00m x: \u001b[38;5;28;01mlambda\u001b[39;00m \u001b[38;5;28mself\u001b[39m, \u001b[38;5;241m*\u001b[39margs, \u001b[38;5;241m*\u001b[39m\u001b[38;5;241m*\u001b[39mkwargs:\n\u001b[0;32m   1255\u001b[0m     appCallWithConstructor(\u001b[38;5;28mself\u001b[39m, x, args, \u001b[38;5;241m*\u001b[39m\u001b[38;5;241m*\u001b[39mkwargs))(name)\n\u001b[0;32m   1256\u001b[0m \u001b[38;5;28;01melse\u001b[39;00m:\n\u001b[1;32m-> 1257\u001b[0m     method \u001b[38;5;241m=\u001b[39m (\u001b[38;5;28;01mlambda\u001b[39;00m x: \u001b[38;5;28;01mlambda\u001b[39;00m \u001b[38;5;28mself\u001b[39m, \u001b[38;5;241m*\u001b[39margs: \u001b[43mappCall\u001b[49m\u001b[43m(\u001b[49m\u001b[38;5;28;43mself\u001b[39;49m\u001b[43m,\u001b[49m\u001b[43m \u001b[49m\u001b[43mx\u001b[49m\u001b[43m,\u001b[49m\u001b[43m \u001b[49m\u001b[43margs\u001b[49m\u001b[43m)\u001b[49m)(name)\n\u001b[0;32m   1258\u001b[0m method\u001b[38;5;241m.\u001b[39m\u001b[38;5;18m__name__\u001b[39m \u001b[38;5;241m=\u001b[39m \u001b[38;5;28mstr\u001b[39m(name)\n\u001b[0;32m   1259\u001b[0m \u001b[38;5;28;01mtry\u001b[39;00m:\n",
      "File \u001b[1;32mD:\\Program Files\\Lumerical\\v241\\api\\python\\lumapi.py:888\u001b[0m, in \u001b[0;36mappCall\u001b[1;34m(self, name, *args)\u001b[0m\n\u001b[0;32m    885\u001b[0m code \u001b[38;5;241m+\u001b[39m\u001b[38;5;241m=\u001b[39m \u001b[38;5;124m'\u001b[39m\u001b[38;5;124m}catch(\u001b[39m\u001b[38;5;132;01m%s\u001b[39;00m\u001b[38;5;132;01m{3}\u001b[39;00m\u001b[38;5;124m);\u001b[39m\u001b[38;5;124m'\u001b[39m \u001b[38;5;241m%\u001b[39m vout\n\u001b[0;32m    887\u001b[0m \u001b[38;5;28;01mtry\u001b[39;00m:\n\u001b[1;32m--> 888\u001b[0m     \u001b[43m_evalScriptInternal\u001b[49m\u001b[43m(\u001b[49m\u001b[38;5;28;43mself\u001b[39;49m\u001b[38;5;241;43m.\u001b[39;49m\u001b[43mhandle\u001b[49m\u001b[43m,\u001b[49m\u001b[43m \u001b[49m\u001b[43mcode\u001b[49m\u001b[43m)\u001b[49m\n\u001b[0;32m    889\u001b[0m \u001b[38;5;28;01mexcept\u001b[39;00m LumApiError:\n\u001b[0;32m    890\u001b[0m     \u001b[38;5;28;01mpass\u001b[39;00m\n",
      "File \u001b[1;32mD:\\Program Files\\Lumerical\\v241\\api\\python\\lumapi.py:286\u001b[0m, in \u001b[0;36m_evalScriptInternal\u001b[1;34m(handle, code)\u001b[0m\n\u001b[0;32m    285\u001b[0m \u001b[38;5;28;01mdef\u001b[39;00m\u001b[38;5;250m \u001b[39m\u001b[38;5;21m_evalScriptInternal\u001b[39m(handle, code):\n\u001b[1;32m--> 286\u001b[0m     ec \u001b[38;5;241m=\u001b[39m \u001b[43mhandle\u001b[49m\u001b[38;5;241;43m.\u001b[39;49m\u001b[43miapi\u001b[49m\u001b[38;5;241;43m.\u001b[39;49m\u001b[43mappEvalScript\u001b[49m\u001b[43m(\u001b[49m\u001b[43mhandle\u001b[49m\u001b[38;5;241;43m.\u001b[39;49m\u001b[43mhandle\u001b[49m\u001b[43m,\u001b[49m\u001b[43m \u001b[49m\u001b[43mcode\u001b[49m\u001b[38;5;241;43m.\u001b[39;49m\u001b[43mencode\u001b[49m\u001b[43m(\u001b[49m\u001b[43m)\u001b[49m\u001b[43m)\u001b[49m\n\u001b[0;32m    287\u001b[0m     \u001b[38;5;28;01mif\u001b[39;00m ec \u001b[38;5;241m<\u001b[39m \u001b[38;5;241m0\u001b[39m:\n\u001b[0;32m    288\u001b[0m         \u001b[38;5;28;01mraise\u001b[39;00m LumApiError(\u001b[38;5;124m\"\u001b[39m\u001b[38;5;124mFailed to evaluate code\u001b[39m\u001b[38;5;124m\"\u001b[39m)\n",
      "\u001b[1;31mKeyboardInterrupt\u001b[0m: "
     ]
    }
   ],
   "source": [
    "compute.Comput(ids)"
   ]
  },
  {
   "cell_type": "code",
   "execution_count": null,
   "id": "570cb836",
   "metadata": {},
   "outputs": [],
   "source": []
  },
  {
   "cell_type": "code",
   "execution_count": null,
   "id": "a3c6ce87",
   "metadata": {},
   "outputs": [],
   "source": []
  },
  {
   "cell_type": "code",
   "execution_count": null,
   "id": "126c3df9",
   "metadata": {},
   "outputs": [],
   "source": []
  }
 ],
 "metadata": {
  "kernelspec": {
   "display_name": "test_env",
   "language": "python",
   "name": "python3"
  },
  "language_info": {
   "codemirror_mode": {
    "name": "ipython",
    "version": 3
   },
   "file_extension": ".py",
   "mimetype": "text/x-python",
   "name": "python",
   "nbconvert_exporter": "python",
   "pygments_lexer": "ipython3",
   "version": "3.10.16"
  }
 },
 "nbformat": 4,
 "nbformat_minor": 5
}
